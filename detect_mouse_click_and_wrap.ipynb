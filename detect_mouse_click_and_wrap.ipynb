{
 "cells": [
  {
   "cell_type": "code",
   "execution_count": 1,
   "id": "a8a3c624",
   "metadata": {},
   "outputs": [],
   "source": [
    "import cv2\n",
    "import numpy as np"
   ]
  },
  {
   "cell_type": "code",
   "execution_count": 20,
   "id": "640722a5",
   "metadata": {},
   "outputs": [],
   "source": [
    "img = cv2.imread('book.png')\n",
    "\n",
    "#Defining circles for each mouse click\n",
    "#Possible number of corner vertices is 4 each with x and y\n",
    "\n",
    "vertex = np.zeros(shape = (4,2),dtype = int)\n",
    "counter = 0\n",
    "\n",
    "\n",
    "#Detecting Mouse click\n",
    "def mouse_click(event,x,y,flags,params):\n",
    "    global counter\n",
    "    if event==cv2.EVENT_LBUTTONDOWN:\n",
    "        try:\n",
    "            vertex[counter] = x,y\n",
    "            counter+=1\n",
    "            \n",
    "            \n",
    "        except:\n",
    "            if counter>vertex.shape[0]:\n",
    "                pass\n",
    "\n",
    "                \n",
    "while True:\n",
    "    if counter==vertex.shape[0]:\n",
    "        #Desired width, height\n",
    "        w,h =250,350\n",
    "        \n",
    "        \n",
    "        pt1 = np.float32([vertex[0],vertex[1],vertex[2],vertex[3]])\n",
    "        pt2 = np.float32([[0,0],[w,0],[0,h],[w,h]])\n",
    "        \n",
    "        matrix = cv2.getPerspectiveTransform(pt1,pt2)\n",
    "        imgout = cv2.warpPerspective(img,matrix,(w,h))\n",
    "        cv2.imshow(\"Wrapped Output\",imgout)\n",
    "    for i in range(vertex.shape[0]):\n",
    "        cv2.circle(img, (vertex[i][0],vertex[i][1]),3,(255,0,0),cv2.FILLED)\n",
    "        \n",
    "    cv2.putText(img,\"Select Top Face coords then bottom coords\",(15,15),cv2.FONT_HERSHEY_SIMPLEX,\n",
    "               0.5,(255,0,0))\n",
    "    cv2.imshow(\"Book\",img)\n",
    "    cv2.setMouseCallback(\"Book\",mouse_click)\n",
    "    if cv2.waitKey(1) & 0xFF == ord('q'):\n",
    "        break\n",
    "cv2.destroyAllWindows()"
   ]
  },
  {
   "cell_type": "code",
   "execution_count": null,
   "id": "6b9d6802",
   "metadata": {},
   "outputs": [],
   "source": []
  },
  {
   "cell_type": "code",
   "execution_count": null,
   "id": "75dee3b3",
   "metadata": {},
   "outputs": [],
   "source": []
  }
 ],
 "metadata": {
  "kernelspec": {
   "display_name": "Python 3 (ipykernel)",
   "language": "python",
   "name": "python3"
  },
  "language_info": {
   "codemirror_mode": {
    "name": "ipython",
    "version": 3
   },
   "file_extension": ".py",
   "mimetype": "text/x-python",
   "name": "python",
   "nbconvert_exporter": "python",
   "pygments_lexer": "ipython3",
   "version": "3.9.7"
  }
 },
 "nbformat": 4,
 "nbformat_minor": 5
}
